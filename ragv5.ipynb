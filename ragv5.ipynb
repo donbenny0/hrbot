{
 "cells": [
  {
   "cell_type": "code",
   "execution_count": 1,
   "id": "install-dependencies",
   "metadata": {},
   "outputs": [
    {
     "name": "stderr",
     "output_type": "stream",
     "text": [
      "\n",
      "[notice] A new release of pip is available: 24.2 -> 25.1.1\n",
      "[notice] To update, run: python.exe -m pip install --upgrade pip\n"
     ]
    }
   ],
   "source": [
    "# Install required packages\n",
    "!pip install -q langchain-huggingface chromadb langchain-community langchain-core sentence-transformers"
   ]
  },
  {
   "cell_type": "code",
   "execution_count": 2,
   "id": "imports",
   "metadata": {},
   "outputs": [],
   "source": [
    "import re\n",
    "import numpy as np\n",
    "from time import time\n",
    "from sklearn.metrics.pairwise import cosine_similarity\n",
    "from langchain_huggingface import HuggingFaceEmbeddings\n",
    "from langchain_core.documents import Document\n",
    "from langchain.text_splitter import RecursiveCharacterTextSplitter\n",
    "from langchain_community.vectorstores import Chroma\n",
    "from langchain.prompts import ChatPromptTemplate, PromptTemplate\n",
    "from langchain_core.output_parsers import StrOutputParser\n",
    "from langchain_community.chat_models import ChatOllama\n",
    "from langchain_core.runnables import RunnablePassthrough\n",
    "from langchain.retrievers.multi_query import MultiQueryRetriever\n",
    "from typing import List, Dict, Any"
   ]
  },
  {
   "cell_type": "code",
   "execution_count": null,
   "id": "embedding-model",
   "metadata": {},
   "outputs": [
    {
     "name": "stderr",
     "output_type": "stream",
     "text": [
      "C:\\Users\\DonBenny\\AppData\\Roaming\\Python\\Python312\\site-packages\\tqdm\\auto.py:21: TqdmWarning: IProgress not found. Please update jupyter and ipywidgets. See https://ipywidgets.readthedocs.io/en/stable/user_install.html\n",
      "  from .autonotebook import tqdm as notebook_tqdm\n",
      "C:\\Users\\DonBenny\\AppData\\Roaming\\Python\\Python312\\site-packages\\huggingface_hub\\file_download.py:144: UserWarning: `huggingface_hub` cache-system uses symlinks by default to efficiently store duplicated files but your machine does not support them in C:\\Users\\DonBenny\\.cache\\huggingface\\hub\\models--BAAI--bge-small-en-v1.5. Caching files will still work but in a degraded version that might require more space on your disk. This warning can be disabled by setting the `HF_HUB_DISABLE_SYMLINKS_WARNING` environment variable. For more details, see https://huggingface.co/docs/huggingface_hub/how-to-cache#limitations.\n",
      "To support symlinks on Windows, you either need to activate Developer Mode or to run Python as an administrator. In order to activate developer mode, see this article: https://docs.microsoft.com/en-us/windows/apps/get-started/enable-your-device-for-development\n",
      "  warnings.warn(message)\n"
     ]
    }
   ],
   "source": [
    "embedding_model = HuggingFaceEmbeddings(\n",
    "    model_name=\"BAAI/bge-small-en-v1.5\", \n",
    "    model_kwargs={\"device\": \"cpu\"},\n",
    "    encode_kwargs={\"normalize_embeddings\": True} \n",
    ")"
   ]
  },
  {
   "cell_type": "code",
   "execution_count": null,
   "id": "text-splitter",
   "metadata": {},
   "outputs": [],
   "source": [
    "\n",
    "text_splitter = RecursiveCharacterTextSplitter(\n",
    "    chunk_size=500,\n",
    "    chunk_overlap=100,\n",
    "    length_function=len,\n",
    "    separators=[r\"\\n\\n\", r\"\\n\", r\"\\. \", \" \", \"\"],\n",
    "    keep_separator=True\n",
    ")"
   ]
  },
  {
   "cell_type": "code",
   "execution_count": null,
   "id": "file-reading",
   "metadata": {},
   "outputs": [],
   "source": [
    "def read_docs(file_path: str) -> str:\n",
    "    try:\n",
    "        with open(file_path, 'r', encoding='utf-8') as file:\n",
    "            return file.read()\n",
    "    except Exception as e:\n",
    "        print(f\"Error reading file: {e}\")\n",
    "        return \"\""
   ]
  },
  {
   "cell_type": "code",
   "execution_count": null,
   "id": "chunking",
   "metadata": {},
   "outputs": [],
   "source": [
    "def create_initial_chunks(file_path: str) -> List[str]:\n",
    "    \n",
    "    text = read_docs(file_path)\n",
    "    if not text:\n",
    "        return []\n",
    "\n",
    "    text = re.sub(r'\\s+', ' ', text).strip()\n",
    "    \n",
    "    documents = text_splitter.create_documents([text])\n",
    "    return [doc.page_content for doc in documents]"
   ]
  },
  {
   "cell_type": "code",
   "execution_count": null,
   "id": "semantic-chunking",
   "metadata": {},
   "outputs": [],
   "source": [
    "def create_semantic_chunks(paragraphs: List[str], \n",
    "                         similarity_threshold: float = 0.82) -> List[List[str]]:\n",
    "    if not paragraphs:\n",
    "        return []\n",
    "    \n",
    "    # Batch process all embeddings at once\n",
    "    para_embeddings = embedding_model.embed_documents(paragraphs)\n",
    "    para_embeddings = [np.array(e).reshape(1, -1) for e in para_embeddings]\n",
    "    \n",
    "    semantic_chunks = []\n",
    "    current_chunk = []\n",
    "    \n",
    "    for i in range(len(paragraphs)):\n",
    "        if not current_chunk:\n",
    "            current_chunk.append(paragraphs[i])\n",
    "            continue\n",
    "            \n",
    "        # Compare with all paragraphs in current chunk\n",
    "        similarities = [cosine_similarity(para_embeddings[i], e)[0][0] \n",
    "                       for e in para_embeddings[:i]]\n",
    "        \n",
    "        # Use max similarity rather than average for better grouping\n",
    "        max_similarity = max(similarities) if similarities else 0\n",
    "        \n",
    "        if max_similarity > similarity_threshold:\n",
    "            current_chunk.append(paragraphs[i])\n",
    "        else:\n",
    "            semantic_chunks.append(current_chunk)\n",
    "            current_chunk = [paragraphs[i]]\n",
    "    \n",
    "    if current_chunk:\n",
    "        semantic_chunks.append(current_chunk)\n",
    "        \n",
    "    return semantic_chunks"
   ]
  },
  {
   "cell_type": "code",
   "execution_count": 27,
   "id": "vector-store",
   "metadata": {},
   "outputs": [],
   "source": [
    "# Configure vector store with optimized settings\n",
    "persist_directory = \"vectorstore_persist_optimized_v1\"\n",
    "collection_name = \"vectorstore_table_optimized_v1\"\n",
    "\n",
    "vectorstore = Chroma(\n",
    "    collection_name=collection_name,\n",
    "    embedding_function=embedding_model,\n",
    "    persist_directory=persist_directory,\n",
    "    collection_metadata={\"hnsw:space\": \"cosine\"}  # Optimize for cosine similarity\n",
    ")"
   ]
  },
  {
   "cell_type": "code",
   "execution_count": 28,
   "id": "store-chunks",
   "metadata": {},
   "outputs": [],
   "source": [
    "def store_chunks_in_chroma(semantic_chunks: List[List[str]]) -> str:\n",
    "    \"\"\"Store semantic chunks in Chroma with optimized metadata.\"\"\"\n",
    "    if not semantic_chunks:\n",
    "        return \"No chunks to store.\"\n",
    "    \n",
    "    docs = []\n",
    "    for idx, chunk_group in enumerate(semantic_chunks):\n",
    "        combined_text = ' '.join(chunk_group).strip()\n",
    "        if not combined_text:\n",
    "            continue\n",
    "            \n",
    "        # Extract first few words as title for better metadata\n",
    "        title = ' '.join(combined_text.split()[:5]) + \"...\"\n",
    "        \n",
    "        doc = Document(\n",
    "            page_content=combined_text,\n",
    "            metadata={\n",
    "                \"chunk_id\": idx,\n",
    "                \"source\": \"employee_handbook_india\",\n",
    "                \"length\": len(combined_text),\n",
    "                \"num_paragraphs\": len(chunk_group),\n",
    "                \"title\": title,\n",
    "                \"type\": \"policy\"  # Helps with filtering\n",
    "            }\n",
    "        )\n",
    "        docs.append(doc)\n",
    "    \n",
    "    if docs:\n",
    "        # Batch add documents\n",
    "        vectorstore.add_documents(docs)\n",
    "        return f\"Stored {len(docs)} semantic chunks in Chroma.\"\n",
    "    return \"No valid documents to store.\""
   ]
  },
  {
   "cell_type": "code",
   "execution_count": 29,
   "id": "process-document",
   "metadata": {},
   "outputs": [
    {
     "name": "stdout",
     "output_type": "stream",
     "text": [
      "Creating initial chunks...\n",
      "Created 72 initial chunks.\n",
      "Creating semantic chunks...\n",
      "Created 57 semantic chunks.\n",
      "Storing in Chroma...\n",
      "Stored 57 semantic chunks in Chroma.\n"
     ]
    }
   ],
   "source": [
    "# Process the document\n",
    "file_path = \"docs/policies.txt\"\n",
    "\n",
    "print(\"Creating initial chunks...\")\n",
    "paragraphs = create_initial_chunks(file_path)\n",
    "print(f\"Created {len(paragraphs)} initial chunks.\")\n",
    "\n",
    "print(\"Creating semantic chunks...\")\n",
    "semantic_chunks = create_semantic_chunks(paragraphs)\n",
    "print(f\"Created {len(semantic_chunks)} semantic chunks.\")\n",
    "\n",
    "print(\"Storing in Chroma...\")\n",
    "result = store_chunks_in_chroma(semantic_chunks)\n",
    "print(result)"
   ]
  },
  {
   "cell_type": "markdown",
   "id": "retrieval-optimization",
   "metadata": {},
   "source": [
    "## Optimized Retrieval Setup"
   ]
  },
  {
   "cell_type": "code",
   "execution_count": null,
   "id": "llm-setup",
   "metadata": {},
   "outputs": [],
   "source": [
    "\n",
    "llm = ChatOllama(\n",
    "    model=\"llama3.2:3b\", \n",
    "    temperature=0.3, \n",
    "    top_k=10,\n",
    "    top_p=0.9,\n",
    "    streaming=False\n",
    ")"
   ]
  },
  {
   "cell_type": "code",
   "execution_count": null,
   "id": "retriever-setup",
   "metadata": {},
   "outputs": [],
   "source": [
    "\n",
    "base_retriever = vectorstore.as_retriever(\n",
    "    search_type=\"mmr\",  \n",
    "    search_kwargs={\n",
    "        \"k\": 5,\n",
    "        \"fetch_k\": 10,   \n",
    "        \"lambda_mult\": 0.5\n",
    "    }\n",
    ")\n",
    "\n",
    "QUERY_PROMPT = PromptTemplate(\n",
    "    input_variables=[\"question\"],\n",
    "    template=\"\"\"You are an HR policy expert. Generate 3 different versions of the user's question \n",
    "    to help retrieve relevant policy documents from a vector database. Focus on variations that \n",
    "    might appear in policy language. Provide these alternative versions separated by newlines.\n",
    "    \n",
    "    Original question: {question}\n",
    "    \n",
    "    Alternative versions:\"\"\"\n",
    ")\n",
    "\n",
    "\n",
    "retriever = MultiQueryRetriever.from_llm(\n",
    "    retriever=base_retriever,\n",
    "    llm=llm,\n",
    "    prompt=QUERY_PROMPT,\n",
    "    parser_key=\"lines\",  \n",
    "    include_original=True  \n",
    ")"
   ]
  },
  {
   "cell_type": "code",
   "execution_count": null,
   "id": "prompt-template",
   "metadata": {},
   "outputs": [],
   "source": [
    "\n",
    "template = \"\"\"You are a precise HR assistant at Ayatacommerce that answers questions using ONLY the provided context.\n",
    "\n",
    "Context:\n",
    "{context}\n",
    "\n",
    "Question: {question}\n",
    "\n",
    "Rules:\n",
    "1. Respond concisely and professionally in 1-3 sentences.\n",
    "2. If the answer isn't in the context, say: \"I don't have this information in my knowledge base. Please contact hr@ayatacommerce.com for assistance.\"\n",
    "3. Never infer or make up information.\n",
    "4. For policy questions, cite the relevant policy section if possible.\n",
    "5. Maintain a professional tone.\n",
    "\n",
    "Answer:\"\"\"\n",
    "\n",
    "prompt = ChatPromptTemplate.from_template(template)"
   ]
  },
  {
   "cell_type": "code",
   "execution_count": 45,
   "id": "34ea7823",
   "metadata": {},
   "outputs": [],
   "source": [
    "def print_context(inputs):\n",
    "    docs = inputs[\"context\"]\n",
    "    print(\"🔍 Retrieved context:\\n\")\n",
    "    for doc in docs:\n",
    "        print(doc.page_content)\n",
    "        print(\"-\" * 80)\n",
    "    return inputs\n"
   ]
  },
  {
   "cell_type": "code",
   "execution_count": 46,
   "id": "query-chain",
   "metadata": {},
   "outputs": [],
   "source": [
    "from langchain.schema.runnable import RunnableLambda, RunnablePassthrough\n",
    "\n",
    "query_chain = (\n",
    "    {\"context\": retriever, \"question\": RunnablePassthrough()}\n",
    "    | RunnableLambda(print_context)\n",
    "    | prompt\n",
    "    | llm\n",
    "    | StrOutputParser()\n",
    ")"
   ]
  },
  {
   "cell_type": "markdown",
   "id": "testing",
   "metadata": {},
   "source": [
    "## Testing the Optimized System"
   ]
  },
  {
   "cell_type": "code",
   "execution_count": null,
   "id": "test-queries",
   "metadata": {},
   "outputs": [],
   "source": [
    "def timed_query(question: str) -> str:\n",
    "\n",
    "    start_time = time()\n",
    "    try:\n",
    "        response = query_chain.invoke(question)\n",
    "        elapsed = time() - start_time\n",
    "        print(f\"Response time: {elapsed:.2f} seconds\")\n",
    "        return response\n",
    "    except Exception as e:\n",
    "        return f\"Error processing query: {str(e)}\""
   ]
  },
  {
   "cell_type": "code",
   "execution_count": null,
   "id": "test-1",
   "metadata": {},
   "outputs": [
    {
     "name": "stdout",
     "output_type": "stream",
     "text": [
      "Query 1: What is the remote work policy?\n",
      "Response time: 207.66 seconds\n",
      "The remote work policy states that individuals work best where they feel most comfortable and that a person's value to an organization is not quantified by the amount of hours spent at their desk. Ayata has adopted a \"remote first\" culture since 2018, allowing employees to set up a designated workspace and work in a way that suits them.\n"
     ]
    }
   ],
   "source": [
    "\n",
    "print(\"Query 1: What is the remote work policy?\")\n",
    "print(timed_query(\"What is the remote work policy?\"))"
   ]
  },
  {
   "cell_type": "code",
   "execution_count": null,
   "id": "test-2",
   "metadata": {},
   "outputs": [
    {
     "name": "stdout",
     "output_type": "stream",
     "text": [
      "\n",
      "Query 2: How many sick leaves do employees get?\n",
      "Response time: 160.13 seconds\n",
      "According to the employee handbook, employees are entitled to 12 days of Earned Leaves each holiday year, which includes both Casual/Sick Leaves and Holiday Leave.\n"
     ]
    }
   ],
   "source": [
    "\n",
    "print(\"\\nQuery 2: How many sick leaves do employees get?\")\n",
    "print(timed_query(\"How many sick leaves do employees get?\"))"
   ]
  },
  {
   "cell_type": "code",
   "execution_count": 47,
   "id": "test-3",
   "metadata": {},
   "outputs": [
    {
     "name": "stdout",
     "output_type": "stream",
     "text": [
      "\n",
      "Query 3: What are the core values of the company?\n",
      "🔍 Retrieved context:\n",
      "\n",
      "A GUIDE TO HOW WE DO THINGS ROUND HERE (An Employee’s Handbook) CHOOSE LIFE, CHOOSE A JOB, CHOOSE A CAREER CHOOSE A FAMILY, CHOOSE FLEXIBILITY, CHOOSE WORKING FROM HOME, LEAVING THE 9-5 TO THOSE CONFINED TO THEIR OFFICE. CHOOSE QUALITY TIME WITH YOUR CHILDREN AND TAKING THE DOG FOR A WALK. CHOOSE COLLABORATION, WORKING WITH THE BEST COLLEAGUES AND THE BEST CLIENTS. CHOOSE INCLUSION, DIVERSITY AND RESPECT. CHOOSE EMPATHY, TRUST AND ADAPTABILITY, CHOOSE MAKING LIFE EASIER, CHOOSE NOT HAVING TO\n",
      "--------------------------------------------------------------------------------\n",
      "DEDUCTIONS You will receive a pay slip via your designated email address by the first week of the month. Show me the money… EXPENSES We trust you to exercise good judgement and consider the Ayata Way values when submitting expenses. For further details of our expense policy please speak to Finance. PAY QUERIES If you have any queries about pay, please contact payroll. LEARNING AND DEVELOPMENT We are committed to the on-going learning and development of all our people and recognise that it is a\n",
      "--------------------------------------------------------------------------------\n",
      "can help you anticipate problems and find solutions. Whether it’s taking in too much negative news and media regarding the current circumstance or a heavy workload. Finding out your triggers can help. Quick tip: Keep active We know, whilst working remotely, we’re more likely than when working in a workplace to be more sedentary – spending a greater amount of time sat at our desks, taking fewer breaks and moving around less. Consider scheduling a short walk as part of your morning routine before\n",
      "--------------------------------------------------------------------------------\n",
      "tasks and have our own individual working style!” Namrita Gupta, Project Manager “I appreciate that my input and opinions has been valued and respected by the team, and I have been treated as a professional person as everyone else. Hence, I love working with people - both colleagues and management, brainstorming ideas, and solving problems together. My voice is always heard.” Cindy Lee, Technical Lead “With two toddlers at home, like many women I also have thought of taking a career break. But Lead “With two toddlers at home, like many women I also have thought of taking a career break. But with AyataCommerce I do not have to compromise my work or family time. I could choose the work hours based on my kids’ routine and I am really a proud working mother. The people here lend ears to any issue a newcomer/experienced can face, regardless how silly the issue can be. It is totally a judgement free zone. This place is transparent, open, and respectful. There is a sense of mutual trust\n",
      "--------------------------------------------------------------------------------\n",
      "In the event of long-term absence we may consider altering your job functions or conditions or adjusting your working arrangements to accommodate your needs in accordance with the terms of the Equality Act 2010. SICKNESS WHILST ON ANNUAL LEAVE If you fall sick whilst on holiday you must notify your manager as soon as possible. To be eligible for this time to be treated as absence owing to sickness rather than annual leave, and to be eligible for CSP in respect of this time, you must produce a rather than annual leave, and to be eligible for CSP in respect of this time, you must produce a medical certificate to confirm your sickness as soon as is reasonably practical. The decision as to whether to treat periods of sickness whilst on annual leave as sickness absence is at the company’s discretion. In case you exhaust your Sick/Casual leaves, the leaves during the sickness shall be adjusted against the earned leaves. RETURNING TO WORK After a period of absence, you may be required to\n",
      "--------------------------------------------------------------------------------\n",
      "and strive to offer the very best client and employee experience. That begins with each and every one of us and how we behave, that is why our values, Empathy, Trust and Adaptability really do matter. They’re the very essence of our organisational identity acting as a guide for who we are and how we do things. Our success begins with our people: what each of us do to play a part in delivering our mission and commitments, and perhaps more importantly, how we behave with others. It’s not just\n",
      "--------------------------------------------------------------------------------\n",
      "EASIER… •At its heart, our mission is to build, measure and learn both internally and externally throughout the entire journey. •We support our customers and help them realise their aspirations •Work with our customers to understand their points of contention •Providing customers with structure and flexibility allows us to work with them more closely and understand the issue more deeply •Allow our customers to determine success and pivot when necessary •Deliver on our promises and ensure that\n",
      "--------------------------------------------------------------------------------\n",
      "reach out to your designated human resource. People Policies and Procedures GRIEVANCE Our grievance process is designed for the speedy resolution of issues. If you have a concern you should, in the first instance, discuss the matter with your manager and look to resolve the matter informally through a one to one meeting or through mediation. If the matter cannot be resolved informally then there is a formal process to be followed - further information on our grievance procedure can be obtained is a formal process to be followed - further information on our grievance procedure can be obtained from the HR team. CONDUCT You must observe company rules and regulations at all times and act in a professional manner, which maintains the basic confidence and trust underlying your employment with us. If you do not you may be liable to disciplinary action including, in serious cases, summary dismissal. CONSULTATION AND COMMUNICATION We attach great importance to the development and maintenance\n",
      "--------------------------------------------------------------------------------\n",
      "are committed to the on-going learning and development of all our people and recognise that it is a pivotal role in our success. It is important to capture your development needs in your reviews and regular one to one meetings with your manager. Training will be provided in various forms, both in-house and through external providers which involve a wide range of training techniques. In return we expect all staff to ensure they strive to improve performance. For full details of our Training and\n",
      "--------------------------------------------------------------------------------\n",
      "CONSULTATION AND COMMUNICATION We attach great importance to the development and maintenance of effective communication with all staff. Meetings and presentations are held to communicate and discuss matters of importance. Regular communication is cascaded via email and through our ‘All Hands’ meetings. PROBATION Upon joining you are subject to a three-month probationary period. During this time, you may have up to three reviews with your manager. It is important to feel comfortable and\n",
      "--------------------------------------------------------------------------------\n",
      "people are more efficient and valuable. We are authentic, proactive, reliable and available We never over promise nor under deliver. We cultivate this trust by encouraging our employees to take well\u0002thought-out risks Our Values ADAPTABILITY By identifying and addressing uncertainties’ early and examining multiple alternatives through organisational flexibility, we are able to challenge the status quo and adjust to new conditions easily. We are open to innovative ideas, continuously learning and\n",
      "--------------------------------------------------------------------------------\n",
      "18 Working Arrangements 19 Family- Friendly Leave 20 People Policies and Procedures 21 How are you doing?! 22 Show me the money 23 Health and Wellbeing 27 Giving Back 28 Code of Conduct Our mission & commitments We focus on providing structure for our clients and a framework which allows us to truly understand the core issue that we are solving. We look to build, measure and learn. MAKING LIFE EASIER… •At its heart, our mission is to build, measure and learn both internally and externally\n",
      "--------------------------------------------------------------------------------\n",
      "our business with our people policies and procedures which represent our culture and our values whilst engaging with you to support a positive and respectful workplace. They aim to cover all aspects of your employment journey such as health and wellbeing, employee relations, diversity and inclusion, performance and pay, family care, working arrangements and time off. We review our people policies and procedures on a regular basis and we will notify you of any relevant updates. We trust you to\n",
      "--------------------------------------------------------------------------------\n",
      "RESPECT. CHOOSE EMPATHY, TRUST AND ADAPTABILITY, CHOOSE MAKING LIFE EASIER, CHOOSE NOT HAVING TO CHOOSE, CHOOSE ANOTHER WAY CHOOSE THE AYATA WAY CONTENTS 04 Our mission and commitments 05 Welcome from Shine 06 Our Journey so far 07 Our Values 10 Our People 11 So, what’s it really like to work here? 12 How we communicate with you 13 How you communicate with us 15 The Ayata Way 17 Our People Policies 18 Working Arrangements 19 Family- Friendly Leave 20 People Policies and Procedures 21 How are\n",
      "--------------------------------------------------------------------------------\n",
      "expect all staff to ensure they strive to improve performance. For full details of our Training and Development programmes and initiatives please speak to HR PROFESSIONALISM In the course of your duties we trust you to declare to HR any personal interest (whether your own or that of a partner, relative or other third party) which could be thought by Ayata to affect your impartial conduct of business on behalf of the company and you must preserve the confidentiality of information received in\n",
      "--------------------------------------------------------------------------------\n",
      "organisation and may contain global Company news, or just include the people on the project you are working on so that the information can be targeted specifically to you. We encourage you to get involved in the conversation by ‘liking’ or ‘commenting’ and ‘sharing’ content; it’s accessible on a desktop computer or via the handy ‘Microsoft Teams’ app downloaded to your smartphone. Jira Jira helps our teams plan, assign, track, report, and manage work and brings teams together for everything\n",
      "--------------------------------------------------------------------------------\n",
      "cues that help you communicate. Conversing remotely removes a lot of that extra information so make your communications extra clear and concise. Turning on your camera will help people get to know you and remember you. When you turn on your video, it sets the tone for others to do the same and creates the conditions for more effective virtual communication. 9.Ask for support when needed. Speak out when you need assistance, further training or support. Your manager, colleagues and you are part\n",
      "--------------------------------------------------------------------------------\n",
      "it’s okay to not be okay. We may feel different from one day to the next as situations change so it’s important to be kind to yourself. Celebrate the small successes We all want to contribute and make a difference to the things we work on, we want to feel accomplished and that we’ve achieved something. So it’s important to celebrate the successes, big and small. Some days that might mean a great piece of work, other days it could mean doing housework or making the bed. Try to identify one small\n",
      "--------------------------------------------------------------------------------\n",
      "a set of SMART objectives which you will be measured against and these will be linked to Ayata’s values and business plan for the year. These reviews are a two- way process that give you an opportunity to have an open and honest discussion about your role and performance and your future career aspirations. PAY Your salary is as set out in your employment contract or as subsequently notified by letter. Salaries are reviewed annually but not necessarily adjusted and there is no contractual right\n",
      "--------------------------------------------------------------------------------\n",
      "Having a worldwide team which offers a variety of mindsets, personalities and viewpoints, alongside having an empathy driven culture helps us understand each other better, work together cohesively and deliver remarkable results. Empathy helps us to focus on active listening instead of thinking about what we’ll say next. When we embrace diversity, inclusion and equality then infuse it with empathy and care our team excels. Empathy is the ability to understand what other people feel, see things and care our team excels. Empathy is the ability to understand what other people feel, see things from their point of view and imagine yourself in their place. Furthermore, it’s the ability to not only understand another person’s response but also anticipate it. We are curious and possess a desire to know and understand others Our Values TRUST We build and retain trust with our customers, our employees and our partners through positive and honest relationships, expertise, and consistency. We\n",
      "--------------------------------------------------------------------------------\n",
      "with you Good communications are key to successful relationships at work and we are committed to creating an open and transparent culture to support this. Our main communication channel is Microsoft Teams. Microsoft Teams Microsoft Teams is our employee platform that enables us to communicate directly with our people through groups or online ‘communities’. These communities can be for the whole organisation and may contain global Company news, or just include the people on the project you are\n",
      "--------------------------------------------------------------------------------\n",
      "New website launched 2019 2018 2017 Established Partnership with SAP 2016 Ayatacommerce founded in Bracknell ‘Remote First’ culture implemented Started India Operations Regional Office in Bangalore Our Values We share a set of values that govern our working practices, personal standards and philosophies whenever we deal with Clients or each other. AyataCommerce has three values which are; EMPATHY Having a worldwide team which offers a variety of mindsets, personalities and viewpoints, alongside\n",
      "--------------------------------------------------------------------------------\n",
      "any relationship, ownership or business interest (other than non-controlling investments in publicly-traded corporations), whether direct or indirect, that the employee or a member of his/her immediate family has with any person, or in any business or enterprise, that: 1. competes with the Company; or 2. purchases or sells, or seeks to purchase or sell, goods or services to or from the Company. Protective Steps Upon disclosure of the information described above, the Company will take\n",
      "--------------------------------------------------------------------------------\n",
      "Response time: 227.41 seconds\n",
      "The core values of the company are Empathy, Trust, and Adaptability, as stated in Policy 15: \"RESPECT. CHOOSE EMPATHY, TRUST AND ADAPTABILITY, CHOOSE MAKING LIFE EASIER, CHOOSE NOT HAVING TO CHOOSE, CHOOSE THE AYATA WAY\"\n"
     ]
    }
   ],
   "source": [
    "\n",
    "print(\"\\nQuery 3: What are the core values of the company?\")\n",
    "print(timed_query(\"What are the core values of the company?\"))"
   ]
  }
 ],
 "metadata": {
  "kernelspec": {
   "display_name": "Python 3",
   "language": "python",
   "name": "python3"
  },
  "language_info": {
   "codemirror_mode": {
    "name": "ipython",
    "version": 3
   },
   "file_extension": ".py",
   "mimetype": "text/x-python",
   "name": "python",
   "nbconvert_exporter": "python",
   "pygments_lexer": "ipython3",
   "version": "3.12.6"
  }
 },
 "nbformat": 4,
 "nbformat_minor": 5
}
