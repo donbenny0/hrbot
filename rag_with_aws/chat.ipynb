{
 "cells": [
  {
   "cell_type": "code",
   "execution_count": 15,
   "id": "9307eb2c",
   "metadata": {},
   "outputs": [],
   "source": [
    "import os\n",
    "import json\n",
    "import boto3\n",
    "import random\n",
    "from time import time\n",
    "from datetime import datetime\n",
    "from typing import List, Dict, Any\n",
    "from dotenv import load_dotenv\n",
    "from langchain.prompts import ChatPromptTemplate, PromptTemplate\n",
    "from langchain.retrievers.multi_query import MultiQueryRetriever\n",
    "from langchain.chains import create_retrieval_chain\n",
    "from langchain_core.prompts import MessagesPlaceholder\n",
    "from langchain.chains.combine_documents import create_stuff_documents_chain\n",
    "from langchain.chains import create_history_aware_retriever\n"
   ]
  },
  {
   "cell_type": "code",
   "execution_count": 16,
   "id": "6c7261ff",
   "metadata": {},
   "outputs": [],
   "source": [
    "\n",
    "load_dotenv()\n",
    "\n",
    "class Config:\n",
    "    AWS_ACCESS_KEY_ID = os.getenv(\"AWS_ACCESS_KEY_ID\")\n",
    "    AWS_SECRET_ACCESS_KEY = os.getenv(\"AWS_SECRET_ACCESS_KEY\")\n",
    "    KB_ID = os.getenv(\"KB_ID\")\n",
    "    MODEL_ARN = os.getenv(\"MODEL_ARN\")\n",
    "    DYNAMODB_TABLE_NAME = os.getenv(\"DYNAMODB_TABLE_NAME\")\n",
    "    AWS_REGION= os.getenv(\"AWS_REGION\", \"us-east-1\")"
   ]
  },
  {
   "cell_type": "code",
   "execution_count": 17,
   "id": "12cfed92",
   "metadata": {},
   "outputs": [],
   "source": [
    "# Initialize AWS Bedrock Runtime Client\n",
    "client = boto3.client(\"bedrock-agent-runtime\", region_name=Config.AWS_REGION)"
   ]
  },
  {
   "cell_type": "code",
   "execution_count": 18,
   "id": "5083bd38",
   "metadata": {},
   "outputs": [],
   "source": [
    "def rewrite_question(user_input: str, history_context: str, llm=None) -> str:\n",
    "    \"\"\"\n",
    "    (Optional) Rewrite the user's input as a standalone question using LLM.\n",
    "    \"\"\"\n",
    "    if not llm:\n",
    "        return user_input  # skip if no LLM available\n",
    "\n",
    "    prompt = f\"\"\"Rewrite the user's question to be self-contained based on the chat history.\n",
    "\n",
    "    Chat history:\n",
    "    {history_context}\n",
    "\n",
    "    User question: {user_input}\n",
    "\n",
    "    Standalone question:\"\"\"\n",
    "\n",
    "    rewritten = llm.invoke(prompt.strip())\n",
    "    return rewritten.content if hasattr(rewritten, \"content\") else rewritten"
   ]
  },
  {
   "cell_type": "code",
   "execution_count": 19,
   "id": "d2f25108",
   "metadata": {},
   "outputs": [],
   "source": [
    "def get_dynamic_prompt(user_input: str, history: List) -> PromptTemplate:\n",
    "    sensitive_keywords = [\"complaint\", \"harassment\", \"grievance\", \"termination\"]\n",
    "    policy_keywords = [\"policy\", \"rule\", \"guideline\"]\n",
    "    benefit_keywords = [\"benefit\", \"pto\", \"leave\", \"insurance\"]\n",
    "    \n",
    "    if any(kw in user_input.lower() for kw in sensitive_keywords):\n",
    "        instructions = \"This is a sensitive topic. Be professional and direct the user to official HR channels if appropriate.\"\n",
    "    elif any(kw in user_input.lower() for kw in policy_keywords):\n",
    "        instructions = \"Provide exact policy details with reference to the policy document when possible.\"\n",
    "    elif any(kw in user_input.lower() for kw in benefit_keywords):\n",
    "        instructions = \"Include eligibility requirements and any limitations for benefits mentioned.\"\n",
    "    else:\n",
    "        instructions = \"Respond helpfully and professionally.\"\n",
    "    \n",
    "    template = f\"\"\"You are an HR assistant for a company. Use the following context to answer the question at the end.\n",
    "If you don't know the answer, say you don't know. Be concise but helpful.\n",
    "\n",
    "Context:\n",
    "{{context}}\n",
    "\n",
    "Conversation history:\n",
    "{{chat_history}}\n",
    "\n",
    "Question: {{input}}\n",
    "\n",
    "Considerations:\n",
    "1. {instructions}\n",
    "2. Format lists and important details clearly\n",
    "3. Provide sources when available\n",
    "\n",
    "Answer:\"\"\"\n",
    "    \n",
    "    return PromptTemplate.from_template(template)\n"
   ]
  },
  {
   "cell_type": "code",
   "execution_count": 20,
   "id": "c1f67329",
   "metadata": {},
   "outputs": [],
   "source": [
    "from langchain_core.messages import HumanMessage, AIMessage\n",
    "from langchain_core.output_parsers import StrOutputParser\n",
    "from langchain_aws import ChatBedrock\n",
    "\n",
    "llm = ChatBedrock(\n",
    "    model=\"anthropic.claude-3-5-sonnet-20240620-v1:0\",\n",
    "    region_name=Config.AWS_REGION,\n",
    "    beta_use_converse_api=True,\n",
    "    streaming=True\n",
    ")"
   ]
  },
  {
   "cell_type": "code",
   "execution_count": null,
   "id": "85b9ccbd",
   "metadata": {},
   "outputs": [],
   "source": [
    "def summarize_chat_history(chat_history: list) -> str:\n",
    "    text = \"\"\n",
    "    for entry in chat_history:\n",
    "        if not entry.get(\"summarized\"):\n",
    "            text += f\"User: {entry['user_message']}\\nAssistant: {entry['assistant_response']}\\n\"\n",
    "\n",
    "    prompt = f\"\"\"Summarize the following HR chat in 1-2 concise sentences:\n",
    "\n",
    "{text}\n",
    "\n",
    "Summary:\"\"\"\n",
    "\n",
    "    return llm.invoke(prompt).content.strip()\n"
   ]
  },
  {
   "cell_type": "code",
   "execution_count": 7,
   "id": "12fa1d2c",
   "metadata": {},
   "outputs": [],
   "source": [
    "from boto3.dynamodb.conditions import Key,Attr\n",
    "dynamodb = boto3.resource('dynamodb',region_name=Config.AWS_REGION,)\n",
    "TABLE_NAME = Config.DYNAMODB_TABLE_NAME\n",
    "table = dynamodb.Table(TABLE_NAME)\n",
    "\n",
    "class ChatHistoryManager:\n",
    "    def __init__(self, user_id: str = \"default\", session_id: str = \"default_session\"):\n",
    "        self.user_id = user_id\n",
    "        self.session_id = session_id\n",
    "\n",
    "    def load_history(self) -> List[Dict[str, Any]]:\n",
    "        today = datetime.now().date()\n",
    "        start_time = datetime.combine(today, datetime.min.time()).isoformat()\n",
    "        end_time = datetime.combine(today, datetime.max.time()).isoformat()\n",
    "\n",
    "        try:\n",
    "            response = table.query(\n",
    "                KeyConditionExpression=Key('user_id').eq(self.user_id) & Key('timestamp').between(start_time, end_time),\n",
    "                FilterExpression=Attr('session_id').eq(self.session_id)\n",
    "            )\n",
    "            return response.get('Items', [])\n",
    "        except Exception as e:\n",
    "            print(\"Error loading from DynamoDB:\", e)\n",
    "            return []\n",
    "\n",
    "    def save_history(self, history: List[Dict[str, Any]]):\n",
    "        for entry in history:\n",
    "            item = {\n",
    "                'user_id': self.user_id,\n",
    "                'timestamp': entry.get(\"timestamp\", datetime.now().isoformat()),  # sort key\n",
    "                'session_id': entry.get(\"session_id\", self.session_id),\n",
    "                'user_message': entry.get(\"user_message\", \"\"),\n",
    "                'assistant_response': entry.get(\"assistant_response\", \"\"),\n",
    "                'summarized': entry.get(\"summarized\", False)\n",
    "            }\n",
    "\n",
    "            if \"summary\" in entry:\n",
    "                item[\"summary\"] = entry[\"summary\"]\n",
    "            if \"summary_of\" in entry:\n",
    "                item[\"summary_of\"] = entry[\"summary_of\"]\n",
    "\n",
    "            try:\n",
    "                table.put_item(Item=item)\n",
    "            except Exception as e:\n",
    "                print(\"Error writing to DynamoDB:\", e)\n",
    "\n",
    "    def summarize_if_needed(self, history: List[Dict[str, Any]]) -> List[Dict[str, Any]]:\n",
    "        unsummarized_blocks = [\n",
    "            entry for entry in history\n",
    "            if not entry.get(\"summarized\", False)\n",
    "            and entry.get(\"user_message\") and entry.get(\"assistant_response\")\n",
    "        ]\n",
    "\n",
    "        if len(unsummarized_blocks) < 5:\n",
    "            return history\n",
    "\n",
    "        history_text = \"\\n\".join(\n",
    "            f\"User: {entry['user_message']}\\nAssistant: {entry['assistant_response']}\"\n",
    "            for entry in unsummarized_blocks[:10]\n",
    "        )\n",
    "\n",
    "        summary_prompt = f\"\"\"\n",
    "        Summarize the following 10 interactions into one concise but informative summary:\n",
    "        {history_text}\n",
    "        \"\"\"\n",
    "\n",
    "        summary = llm.invoke(summary_prompt.strip())\n",
    "        if isinstance(summary, AIMessage):\n",
    "            summary = summary.content\n",
    "\n",
    "        summary_entry = {\n",
    "            \"role\": \"system\",\n",
    "            \"summary\": summary,\n",
    "            \"timestamp\": datetime.now().isoformat(),\n",
    "            \"session_id\": self.session_id,\n",
    "            \"summarized\": True,\n",
    "            \"summary_of\": [entry[\"timestamp\"] for entry in unsummarized_blocks[:10]]\n",
    "        }\n",
    "\n",
    "        history = [entry for entry in history if entry not in unsummarized_blocks[:10]]\n",
    "        history.insert(0, summary_entry)\n",
    "        return history\n",
    "\n",
    "    def append_chat_pair(self, history: List[Dict[str, Any]], user_msg: str, assistant_msg: str) -> List[Dict[str, Any]]:\n",
    "        new_entry = {\n",
    "            \"user_message\": user_msg,\n",
    "            \"assistant_response\": assistant_msg,\n",
    "            \"timestamp\": datetime.now().isoformat(),\n",
    "            \"session_id\": self.session_id,\n",
    "            \"summarized\": False\n",
    "        }\n",
    "\n",
    "        history.append(new_entry)\n",
    "        self.save_history([new_entry])  # Save only the new one\n",
    "        return self.summarize_if_needed(history)"
   ]
  },
  {
   "cell_type": "code",
   "execution_count": 8,
   "id": "3a030afe",
   "metadata": {},
   "outputs": [],
   "source": [
    "def chat_with_bedrock(user_input: str, user_id: str = \"default\", session_id: str = \"default_session\") -> str:\n",
    "    history_manager = ChatHistoryManager(user_id, session_id)\n",
    "    chat_history = history_manager.load_history()\n",
    "\n",
    "    # --- Format recent history for context ---\n",
    "    formatted_history = []\n",
    "    for entry in chat_history:\n",
    "        if entry.get(\"summarized\", False):\n",
    "            formatted_history.append(f\"System Summary: {entry['summary']}\")\n",
    "        else:\n",
    "            formatted_history.append(f\"User: {entry['user_message']}\\nAssistant: {entry['assistant_response']}\")\n",
    "\n",
    "    history_context = \"\\n\".join(formatted_history[-10:])  # last 10 messages only\n",
    "\n",
    "    # --- Build dynamic system prompt ---\n",
    "    system_prompt = get_dynamic_prompt(user_input, chat_history).format(\n",
    "        context=\"Knowledge from internal HR documents.\",\n",
    "        chat_history=history_context,\n",
    "        input=user_input\n",
    "    )\n",
    "\n",
    "    # --- (Optional) Rewrite question using context ---\n",
    "    rewritten_question = user_input  # rewrite_question(user_input, history_context)\n",
    "\n",
    "    # --- Call Bedrock retrieve_and_generate ---\n",
    "    try:\n",
    "        response = client.retrieve_and_generate(\n",
    "            input={'text': rewritten_question},\n",
    "            retrieveAndGenerateConfiguration={\n",
    "                'type': 'KNOWLEDGE_BASE',\n",
    "                'knowledgeBaseConfiguration': {\n",
    "                    'knowledgeBaseId': Config.KB_ID,\n",
    "                    'modelArn': Config.MODEL_ARN\n",
    "                }\n",
    "            }\n",
    "        )\n",
    "\n",
    "        answer = response.get(\"output\", {}).get(\"text\", \"Sorry, I don't have an answer for that.\")\n",
    "\n",
    "        # Save chat entry\n",
    "        chat_history = history_manager.append_chat_pair(chat_history, user_input, answer)\n",
    "\n",
    "        # Summarize every 10 entries\n",
    "        if len([h for h in chat_history if not h.get(\"summarized\")]) >= 10:\n",
    "            summary_text = summarize_chat_history(chat_history)\n",
    "            summary_entry = {\n",
    "                \"id\": str(uuid.uuid4()),\n",
    "                \"timestamp\": datetime.datetime.utcnow().isoformat(),\n",
    "                \"summary\": summary_text,\n",
    "                \"summarized\": True\n",
    "            }\n",
    "            chat_history.append(summary_entry)\n",
    "\n",
    "        history_manager.save_history(chat_history)\n",
    "\n",
    "        return answer\n",
    "\n",
    "    except Exception as e:\n",
    "        print(f\"[Error invoking Bedrock] {e}\")\n",
    "        return \"Sorry, I couldn't retrieve the information right now.\"\n"
   ]
  },
  {
   "cell_type": "code",
   "execution_count": 23,
   "id": "71742f80",
   "metadata": {},
   "outputs": [
    {
     "name": "stdout",
     "output_type": "stream",
     "text": [
      "Yes, you can carry over unused vacation days, but there are some limitations. If you work full-time on the India payroll, you are allowed to carry over up to 10 days of Earned leaves to the following year. However, there is a maximum limit of 30 leave balances that can be accumulated.\n",
      "\n",
      "It's important to note that the company prefers staff to take their full holiday entitlement in the leave year to which it relates. The holiday year runs from January 1 to December 31.\n"
     ]
    }
   ],
   "source": [
    "response = chat_with_bedrock(\"Can I carry over my unused vacation days?\", user_id=\"john\", session_id=\"abc123\")\n",
    "print(response)"
   ]
  },
  {
   "cell_type": "code",
   "execution_count": 11,
   "id": "4313e91d",
   "metadata": {},
   "outputs": [
    {
     "data": {
      "text/plain": [
       "'The CEO and Founder of AyataCommerce is Shine Mathew. Unfortunately, the search results do not provide much detailed information about Shine beyond mentioning his role and name.'"
      ]
     },
     "execution_count": 11,
     "metadata": {},
     "output_type": "execute_result"
    }
   ],
   "source": [
    "chat_with_bedrock(\"what do you know about the CEO of AyataCommerce?\",user_id=\"123\",session_id=\"1234\")"
   ]
  },
  {
   "cell_type": "code",
   "execution_count": 13,
   "id": "c50d19b7",
   "metadata": {},
   "outputs": [
    {
     "data": {
      "text/plain": [
       "'Sorry, I am unable to assist you with this request.'"
      ]
     },
     "execution_count": 13,
     "metadata": {},
     "output_type": "execute_result"
    }
   ],
   "source": [
    "chat_with_bedrock(\"what do you know about him?\",user_id=\"123\",session_id=\"1234\")"
   ]
  },
  {
   "cell_type": "code",
   "execution_count": 20,
   "id": "b7520333",
   "metadata": {},
   "outputs": [
    {
     "data": {
      "text/plain": [
       "\"The core values of AyataCommerce are:\\n\\n1. **Empathy**: Emphasizing understanding and valuing diverse perspectives within the global team.\\n2. **Trust**: Building a transparent and respectful environment that fosters mutual trust.\\n3. **Adaptability**: Encouraging flexibility and openness to innovative ideas and changes.\\n\\nThese values guide the company's working practices and interactions with clients and each other.\""
      ]
     },
     "execution_count": 20,
     "metadata": {},
     "output_type": "execute_result"
    }
   ],
   "source": [
    "chat(\"What are the core values of the company?\",\"123\",\"1234\")"
   ]
  },
  {
   "cell_type": "code",
   "execution_count": null,
   "id": "12991199",
   "metadata": {},
   "outputs": [
    {
     "name": "stdout",
     "output_type": "stream",
     "text": [
      "Error in RAG chain: Object of type AIMessage is not JSON serializable\n"
     ]
    },
    {
     "data": {
      "text/plain": [
       "'My knowledge base seems to be unavailable at the moment. Please try again later.'"
      ]
     },
     "execution_count": 38,
     "metadata": {},
     "output_type": "execute_result"
    }
   ],
   "source": [
    "chat(\"Which among the values reflects about the flexibility?\",\"123\")"
   ]
  },
  {
   "cell_type": "code",
   "execution_count": 61,
   "id": "7088a6f4",
   "metadata": {},
   "outputs": [
    {
     "data": {
      "text/plain": [
       "\"Yes, you can take a half-day leave if you are suddenly sick. Here are the key points to consider:\\n\\n### Eligibility Requirements:\\n1. **Notification**: You must inform your manager as soon as possible on the first day of your absence.\\n2. **Duration of Absence**: If you are going to be away from work for more than 48 hours, you must notify your manager and may need to provide a medical certificate if the absence extends beyond two days.\\n\\n### Limitations:\\n- **Sick Pay**: Ensure you understand the rules regarding company sick pay. If you have any uncertainties, it's advisable to ask payroll for clarification.\\n- **Documentation**: If your illness continues beyond the term of your medical certificate, further documentation may be required to confirm your sickness.\\n\\n### Additional Notes:\\n- You should record your leave accurately in Zoho.\\n- If you are sick during a holiday, you must notify your manager promptly to potentially treat it as sick leave rather than annual leave.\\n\\nFor more detailed information, you can refer to the company's Leave Guidelines or consult with HR.\""
      ]
     },
     "execution_count": 61,
     "metadata": {},
     "output_type": "execute_result"
    }
   ],
   "source": [
    "chat(\"Is it ok to take a half day leave if i am sick suddenly?\",\"123\",\"1234\")"
   ]
  }
 ],
 "metadata": {
  "kernelspec": {
   "display_name": "Python 3",
   "language": "python",
   "name": "python3"
  },
  "language_info": {
   "codemirror_mode": {
    "name": "ipython",
    "version": 3
   },
   "file_extension": ".py",
   "mimetype": "text/x-python",
   "name": "python",
   "nbconvert_exporter": "python",
   "pygments_lexer": "ipython3",
   "version": "3.12.6"
  }
 },
 "nbformat": 4,
 "nbformat_minor": 5
}
