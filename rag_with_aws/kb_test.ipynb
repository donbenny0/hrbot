{
 "cells": [
  {
   "cell_type": "code",
   "execution_count": 1,
   "id": "e55e9a5e",
   "metadata": {},
   "outputs": [],
   "source": [
    "import os\n",
    "import boto3\n",
    "from dotenv import load_dotenv"
   ]
  },
  {
   "cell_type": "code",
   "execution_count": 2,
   "id": "d13bc15b",
   "metadata": {},
   "outputs": [],
   "source": [
    "load_dotenv()\n",
    "class Config:\n",
    "    AWS_ACCESS_KEY_ID = os.getenv(\"AWS_ACCESS_KEY_ID\")\n",
    "    AWS_SECRET_ACCESS_KEY = os.getenv(\"AWS_SECRET_ACCESS_KEY\")\n",
    "    KB_ID = os.getenv(\"KB_ID\")\n",
    "    MODEL_ARN = os.getenv(\"MODEL_ARN\")"
   ]
  },
  {
   "cell_type": "code",
   "execution_count": 3,
   "id": "8f2bb539",
   "metadata": {},
   "outputs": [],
   "source": [
    "client=boto3.client(\"bedrock-agent-runtime\",\n",
    "                    aws_access_key_id=Config.AWS_ACCESS_KEY_ID,\n",
    "                    aws_secret_access_key=Config.AWS_SECRET_ACCESS_KEY,\n",
    "                    region_name=\"us-east-1\")"
   ]
  },
  {
   "cell_type": "code",
   "execution_count": null,
   "id": "d7c52f80",
   "metadata": {},
   "outputs": [],
   "source": [
    "def retrieve_from_kb(input):\n",
    "    try:\n",
    "        response = client.retrieve_and_generate(\n",
    "            input={\n",
    "                'text': input\n",
    "            },\n",
    "            retrieveAndGenerateConfiguration={\n",
    "                'type': 'KNOWLEDGE_BASE',\n",
    "                'knowledgeBaseConfiguration': {\n",
    "                    'knowledgeBaseId': Config.KB_ID,\n",
    "                    'modelArn': Config.MODEL_ARN\n",
    "                }\n",
    "            }\n",
    "        )\n",
    "        return response\n",
    "    except Exception as e:\n",
    "        print(f\"Error retrieving knowledge base: {e}\")\n",
    "        return None\n"
   ]
  },
  {
   "cell_type": "code",
   "execution_count": 10,
   "id": "88433d27",
   "metadata": {},
   "outputs": [],
   "source": [
    "response = retrieve_from_kb(\"Who is the founder of ayatacommerce\")"
   ]
  },
  {
   "cell_type": "code",
   "execution_count": null,
   "id": "d10c9e88",
   "metadata": {},
   "outputs": [],
   "source": [
    "retrieval_results = response[\"retrievalResults\"]\n",
    "for item in retrieval_results:\n",
    "    print(item[\"content\"][\"text\"])\n"
   ]
  },
  {
   "cell_type": "code",
   "execution_count": null,
   "id": "b3030115",
   "metadata": {},
   "outputs": [],
   "source": [
    "output = response['output']\n",
    "print(\"Output:\", output['text'])"
   ]
  }
 ],
 "metadata": {
  "kernelspec": {
   "display_name": "Python 3",
   "language": "python",
   "name": "python3"
  },
  "language_info": {
   "codemirror_mode": {
    "name": "ipython",
    "version": 3
   },
   "file_extension": ".py",
   "mimetype": "text/x-python",
   "name": "python",
   "nbconvert_exporter": "python",
   "pygments_lexer": "ipython3",
   "version": "3.12.6"
  }
 },
 "nbformat": 4,
 "nbformat_minor": 5
}
